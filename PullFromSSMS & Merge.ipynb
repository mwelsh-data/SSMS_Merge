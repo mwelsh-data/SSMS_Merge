{
 "cells": [
  {
   "cell_type": "code",
   "execution_count": null,
   "id": "d97c85b3",
   "metadata": {},
   "outputs": [],
   "source": [
    "import pandas as pd\n",
    "pd.set_option('display.max_columns', None)\n",
    "import pyodbc"
   ]
  },
  {
   "cell_type": "code",
   "execution_count": null,
   "id": "ceaf9d40",
   "metadata": {},
   "outputs": [],
   "source": [
    "df = pd.read_csv('Copy of Montgomery Co 10.18.2021.csv')\n",
    "\n",
    "df['Invoice #'] = df['Invoice #'].str.strip()\n",
    "display(df.head(1))"
   ]
  },
  {
   "cell_type": "code",
   "execution_count": null,
   "id": "e1e529d9",
   "metadata": {},
   "outputs": [],
   "source": [
    "# query\n",
    "sql = \"\"\"\n",
    "SELECT \n",
    "    invoiceNumber\n",
    "    ,qboInvoiceNumber\n",
    "FROM \n",
    "    reporting.vw_paymentALMontgomery\n",
    "WHERE\n",
    "    qboInvoiceNumber IN {}\n",
    "\"\"\".format(tuple(df['Invoice #']))\n",
    "\n",
    "df.head"
   ]
  },
  {
   "cell_type": "code",
   "execution_count": null,
   "id": "25640f53",
   "metadata": {},
   "outputs": [],
   "source": [
    "# get database info\n",
    "server = 'SSMS SERVER NAME.database.windows.net'\n",
    "database = 'SSMS DATABASE NAME'\n",
    "driver = '{ODBC Driver 17 for SQL Server}'\n",
    "####################################################\n",
    "UID = 'molly.welsh@work.com' # REPLACE WITH YOUR LOGIN INFO\n",
    "PWD = 'PasswordGoesHere' # REPLACE WITH YOUR LOGIN INFO\n",
    "####################################################\n",
    "# connect to database\n",
    "cnxn = pyodbc.connect('DRIVER='+driver+';SERVER='+server+\n",
    "                      ';PORT=0000;DATABASE='+database+\n",
    "                      ';Authentication=ActiveDirectoryPassword;UID='+UID+';PWD='+PWD)\n",
    "# execute SQL code\n",
    "df2 = pd.read_sql(sql,cnxn)    \n",
    "# close the connection\n",
    "cnxn.close()"
   ]
  },
  {
   "cell_type": "code",
   "execution_count": null,
   "id": "bf49f281",
   "metadata": {},
   "outputs": [],
   "source": [
    "df.head(1)"
   ]
  },
  {
   "cell_type": "code",
   "execution_count": null,
   "id": "261f0222",
   "metadata": {},
   "outputs": [],
   "source": [
    "df2['qboInvoiceNumber'] = df2['qboInvoiceNumber'].str.strip()"
   ]
  },
  {
   "cell_type": "code",
   "execution_count": null,
   "id": "dc0d05e0",
   "metadata": {},
   "outputs": [],
   "source": [
    "final = df.merge(df2, left_on='Invoice #', right_on='qboInvoiceNumber', how='left')"
   ]
  },
  {
   "cell_type": "code",
   "execution_count": null,
   "id": "c9e84c43",
   "metadata": {},
   "outputs": [],
   "source": [
    "final.head(1)"
   ]
  },
  {
   "cell_type": "code",
   "execution_count": null,
   "id": "e4e7c590",
   "metadata": {},
   "outputs": [],
   "source": [
    "del final['qboInvoiceNumber']\n",
    "final.rename(columns={'invoiceNumber': 'NBLY Invoice #'}, inplace=True)"
   ]
  },
  {
   "cell_type": "code",
   "execution_count": null,
   "id": "cca31e37",
   "metadata": {},
   "outputs": [],
   "source": [
    "final.to_csv('New Copy of Montgomery Co 10.18.2021.csv', index=False)"
   ]
  }
 ],
 "metadata": {
  "kernelspec": {
   "display_name": "Python 3",
   "language": "python",
   "name": "python3"
  },
  "language_info": {
   "codemirror_mode": {
    "name": "ipython",
    "version": 3
   },
   "file_extension": ".py",
   "mimetype": "text/x-python",
   "name": "python",
   "nbconvert_exporter": "python",
   "pygments_lexer": "ipython3",
   "version": "3.8.8"
  }
 },
 "nbformat": 4,
 "nbformat_minor": 5
}
